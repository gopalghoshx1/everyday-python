{
 "cells": [
  {
   "cell_type": "markdown",
   "id": "ddb71e09-f3bd-4da0-8b89-79769e3fc7cc",
   "metadata": {
    "tags": []
   },
   "source": [
    "# 1th feb"
   ]
  },
  {
   "cell_type": "markdown",
   "id": "e8fe6f5d-fd3f-4d8b-85d1-2d32ebc5652d",
   "metadata": {},
   "source": [
    "## Q1."
   ]
  },
  {
   "cell_type": "markdown",
   "id": "8b5380a8-40d9-4b30-a130-b31fc7a00045",
   "metadata": {},
   "source": [
    "r\tOpen a file for reading. (default)\n",
    "w\tOpen a file for writing. Creates a new file if it does not exist or truncates the file if it exists.\n",
    "x\tOpen a file for exclusive creation. If the file already exists, the operation fails.\n",
    "a\tOpen a file for appending at the end of the file without truncating it. Creates a new file if it does not exist.\n",
    "t\tOpen in text mode. (default)\n",
    "b\tOpen in binary mode.\n"
   ]
  },
  {
   "cell_type": "markdown",
   "id": "da4696a6-ffb0-4f50-8047-b0310307a1aa",
   "metadata": {},
   "source": [
    "## Q2."
   ]
  },
  {
   "cell_type": "markdown",
   "id": "2dd398aa-75c6-4944-a442-9c9da9fc4437",
   "metadata": {},
   "source": [
    "The close() function shall deallocate the file descriptor indicated by fildes. To deallocate means to make the file descriptor available for return by subsequent calls to open() or other functions that allocate file descriptors."
   ]
  },
  {
   "cell_type": "markdown",
   "id": "4cc21181-fd87-4bc5-af35-321d561992b4",
   "metadata": {},
   "source": [
    "importent to saving input data."
   ]
  },
  {
   "cell_type": "markdown",
   "id": "a4711339-66cf-4826-8c4e-37a7bc820b15",
   "metadata": {},
   "source": [
    "## Q3."
   ]
  },
  {
   "cell_type": "code",
   "execution_count": 3,
   "id": "d42dee9b-7472-43f6-9ebb-fd10c58a34b3",
   "metadata": {},
   "outputs": [],
   "source": [
    "with open(\"data.txt\",\"w\") as e:\n",
    "    e.write(\"I want to become a Data Scientist\")\n",
    "    "
   ]
  },
  {
   "cell_type": "code",
   "execution_count": 9,
   "id": "3b90bde4-24ca-4b01-aa2a-b829baeaacac",
   "metadata": {},
   "outputs": [],
   "source": [
    "e.close()"
   ]
  },
  {
   "cell_type": "code",
   "execution_count": 15,
   "id": "1882616f-423c-4e1e-bc7c-11672554813b",
   "metadata": {},
   "outputs": [
    {
     "name": "stdout",
     "output_type": "stream",
     "text": [
      "I want to become a Data Scientist\n"
     ]
    }
   ],
   "source": [
    "with open(\"data.txt\",\"r\")as e:\n",
    "    print(e.read())\n",
    "    "
   ]
  },
  {
   "cell_type": "markdown",
   "id": "a0b1e409-028f-4129-b91c-24a03f349db8",
   "metadata": {},
   "source": [
    "## Q4."
   ]
  },
  {
   "cell_type": "markdown",
   "id": "9880b70d-d940-402a-bcbc-eb9a4f9c248d",
   "metadata": {},
   "source": [
    "Python readline() method will return a line from the file when called. readlines() method will return all the lines in a file in the format of a list where each element is a line in the file."
   ]
  },
  {
   "cell_type": "markdown",
   "id": "3c97ef10-250d-4274-abad-58977c43831a",
   "metadata": {},
   "source": [
    "## Q5"
   ]
  },
  {
   "cell_type": "markdown",
   "id": "8fb80b6c-2345-454c-9225-2391749371a7",
   "metadata": {},
   "source": [
    "The with statement works with the open() function to open a file. Unlike open() where you have to close the file with the close() method, the with statement closes the file for you without you telling it to."
   ]
  },
  {
   "cell_type": "markdown",
   "id": "b9f40ee8-9194-461f-b2e0-8e55483b2a26",
   "metadata": {},
   "source": [
    "## Q6."
   ]
  },
  {
   "cell_type": "markdown",
   "id": "3a58c55c-eb56-4910-8868-391eb560994d",
   "metadata": {},
   "source": [
    "The difference between Write() and WriteLine() method is based on new line character. Write() method displays the output but do not provide a new line character. WriteLine() method displays the output and also provides a new line character it the end of the string, This would set a new line for the next output."
   ]
  },
  {
   "cell_type": "code",
   "execution_count": 16,
   "id": "008160ca-4cd9-4f72-a403-7b4f3e569d91",
   "metadata": {},
   "outputs": [],
   "source": [
    "w= open(\"write.txt\", \"w\")"
   ]
  },
  {
   "cell_type": "code",
   "execution_count": 17,
   "id": "870adb60-44d1-4315-bbc0-d59b92e08de0",
   "metadata": {},
   "outputs": [],
   "source": [
    "w.writelines(\"wefewfewfwefwe \\n dfwsfwfwe\")"
   ]
  },
  {
   "cell_type": "code",
   "execution_count": 18,
   "id": "b8436ec8-e98f-44a1-b5a2-64b23408365a",
   "metadata": {},
   "outputs": [],
   "source": [
    "w.close()"
   ]
  },
  {
   "cell_type": "code",
   "execution_count": 20,
   "id": "dbd34dc0-f76e-4edf-bd7a-63ef04d6c989",
   "metadata": {},
   "outputs": [
    {
     "name": "stdout",
     "output_type": "stream",
     "text": [
      "wefewfewfwefwe \n",
      " dfwsfwfwe\n"
     ]
    }
   ],
   "source": [
    "with open (\"write.txt\",\"r\") as r:\n",
    "    print(r.read())"
   ]
  },
  {
   "cell_type": "code",
   "execution_count": null,
   "id": "0a889c9f-593c-4ddb-890a-216582fba380",
   "metadata": {},
   "outputs": [],
   "source": []
  },
  {
   "cell_type": "code",
   "execution_count": null,
   "id": "112593f2-b0bd-4b72-8e30-ca09bfa4ebce",
   "metadata": {},
   "outputs": [],
   "source": []
  },
  {
   "cell_type": "code",
   "execution_count": null,
   "id": "629ecce0-70b6-4e30-a3b4-886962564314",
   "metadata": {},
   "outputs": [],
   "source": []
  }
 ],
 "metadata": {
  "kernelspec": {
   "display_name": "Python 3 (ipykernel)",
   "language": "python",
   "name": "python3"
  },
  "language_info": {
   "codemirror_mode": {
    "name": "ipython",
    "version": 3
   },
   "file_extension": ".py",
   "mimetype": "text/x-python",
   "name": "python",
   "nbconvert_exporter": "python",
   "pygments_lexer": "ipython3",
   "version": "3.10.8"
  }
 },
 "nbformat": 4,
 "nbformat_minor": 5
}
