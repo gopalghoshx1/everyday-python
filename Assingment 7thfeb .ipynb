{
 "cells": [
  {
   "cell_type": "markdown",
   "id": "e6d58bed-b95b-492d-a561-c9cbfbd2dae5",
   "metadata": {},
   "source": [
    "# 7 th feb"
   ]
  },
  {
   "cell_type": "markdown",
   "id": "20ea4100-2ced-45ea-a725-22e75caf692c",
   "metadata": {
    "tags": []
   },
   "source": [
    "# Q1."
   ]
  },
  {
   "cell_type": "code",
   "execution_count": 3,
   "id": "bde6c773-1c40-4e4c-aacc-b085a9e14e62",
   "metadata": {
    "tags": []
   },
   "outputs": [],
   "source": [
    "def check(id):\n",
    "    up=0\n",
    "    lw=0\n",
    "    nm=0\n",
    "    sp=0\n",
    "    l=len(id)\n",
    "    for i in id:\n",
    "        \n",
    "        if i.isupper():\n",
    "            up+=1\n",
    "        elif i.islower():\n",
    "            lw+=1\n",
    "        elif i.isnumeric():\n",
    "            nm+=1\n",
    "        else:\n",
    "            sp+=1\n",
    "\n",
    "    if up>1 and lw>1 and nm>0 and sp>2 and l>9:\n",
    "        print(\"Valid Password\")\n",
    "    else :\n",
    "        print(\"Invalid Password\")\n",
    "            "
   ]
  },
  {
   "cell_type": "code",
   "execution_count": 4,
   "id": "66b7cff1-e4a7-42ba-9e7f-57e93c8dd7d6",
   "metadata": {},
   "outputs": [
    {
     "name": "stdout",
     "output_type": "stream",
     "text": [
      "Valid Password\n"
     ]
    }
   ],
   "source": [
    "k=\"OPen@43@#1\"\n",
    "check(k)"
   ]
  },
  {
   "cell_type": "markdown",
   "id": "6a590339-de36-4337-bbe3-5387f09c52c8",
   "metadata": {},
   "source": [
    "# Q2."
   ]
  },
  {
   "cell_type": "code",
   "execution_count": 5,
   "id": "ea19251f-da90-4640-9faf-5a9fa42f0f67",
   "metadata": {},
   "outputs": [],
   "source": [
    "y=lambda x: x if x[0]==\"h\" else print(\"sry\")"
   ]
  },
  {
   "cell_type": "code",
   "execution_count": 7,
   "id": "46be070b-4988-4b4c-809a-72fee75aff4f",
   "metadata": {},
   "outputs": [
    {
     "data": {
      "text/plain": [
       "'hee'"
      ]
     },
     "execution_count": 7,
     "metadata": {},
     "output_type": "execute_result"
    }
   ],
   "source": [
    "y(\"hee\")"
   ]
  },
  {
   "cell_type": "code",
   "execution_count": 19,
   "id": "d286f9a4-2182-49ca-8a5e-15f5990c8a7f",
   "metadata": {},
   "outputs": [],
   "source": [
    "n= lambda x: x if x.isnumeric() else print(\"no it is not a number\")"
   ]
  },
  {
   "cell_type": "code",
   "execution_count": 24,
   "id": "13be02ee-42e1-41d8-a630-e00d5d04209d",
   "metadata": {},
   "outputs": [
    {
     "data": {
      "text/plain": [
       "'5'"
      ]
     },
     "execution_count": 24,
     "metadata": {},
     "output_type": "execute_result"
    }
   ],
   "source": [
    "n(\"5\")"
   ]
  },
  {
   "cell_type": "code",
   "execution_count": 26,
   "id": "dd89c66e-2b3e-4782-aaf9-e82644289d87",
   "metadata": {},
   "outputs": [],
   "source": [
    "ll=[(\"mango\",99),(\"orange\",80), (\"grapes\", 1000)]"
   ]
  },
  {
   "cell_type": "code",
   "execution_count": 31,
   "id": "791caf56-8485-4b94-93d1-830b2e4354a3",
   "metadata": {},
   "outputs": [],
   "source": [
    "ll.sort(key =lambda x: x[0])"
   ]
  },
  {
   "cell_type": "code",
   "execution_count": 32,
   "id": "5f798852-a592-449d-aecb-909b2b65d82e",
   "metadata": {},
   "outputs": [
    {
     "data": {
      "text/plain": [
       "[('orange', 80), ('mango', 99), ('grapes', 1000)]"
      ]
     },
     "execution_count": 32,
     "metadata": {},
     "output_type": "execute_result"
    }
   ],
   "source": [
    "ll"
   ]
  },
  {
   "cell_type": "code",
   "execution_count": 4,
   "id": "120b1786-9214-45e5-89ca-a355952330a5",
   "metadata": {},
   "outputs": [
    {
     "data": {
      "text/plain": [
       "[1, 4, 9, 16, 25, 36, 49, 64, 81, 100]"
      ]
     },
     "execution_count": 4,
     "metadata": {},
     "output_type": "execute_result"
    }
   ],
   "source": [
    "list(i**2 for i in range(1,11))\n",
    " \n",
    " "
   ]
  },
  {
   "cell_type": "code",
   "execution_count": 5,
   "id": "071807a3-bd2e-4d00-8a10-7000f6f3c35e",
   "metadata": {},
   "outputs": [
    {
     "data": {
      "text/plain": [
       "[1, 8, 27, 64, 125, 216, 343, 512, 729, 1000]"
      ]
     },
     "execution_count": 5,
     "metadata": {},
     "output_type": "execute_result"
    }
   ],
   "source": [
    "list(x**3 for x in range(1,11))"
   ]
  },
  {
   "cell_type": "code",
   "execution_count": 11,
   "id": "626df37a-5a74-4dec-90ee-524ba8e83929",
   "metadata": {},
   "outputs": [
    {
     "name": "stdin",
     "output_type": "stream",
     "text": [
      "Enter the number  5641\n"
     ]
    },
    {
     "data": {
      "text/plain": [
       "'it is a odd number '"
      ]
     },
     "execution_count": 11,
     "metadata": {},
     "output_type": "execute_result"
    }
   ],
   "source": [
    "i= int(input(\"Enter the number \"))\n",
    "p=lambda i: i if i%2==0 else \"it is a odd number \"\n",
    "p(i)"
   ]
  },
  {
   "cell_type": "code",
   "execution_count": 15,
   "id": "5a547531-edc1-40f4-b830-344ce914046d",
   "metadata": {},
   "outputs": [
    {
     "data": {
      "text/plain": [
       "[1, 3, 5, 7, 9]"
      ]
     },
     "execution_count": 15,
     "metadata": {},
     "output_type": "execute_result"
    }
   ],
   "source": [
    "lr=[1,2,3,4,5,6,7,8,9,10]\n",
    "\n",
    "list(filter(lambda x: x%2!=0,lr ))"
   ]
  },
  {
   "cell_type": "code",
   "execution_count": 16,
   "id": "273227ee-1390-4fc2-ba09-99025828a603",
   "metadata": {},
   "outputs": [],
   "source": [
    "sl=[1,2,3,4,5,6,-1,-2,-3,-4,-5,0]"
   ]
  },
  {
   "cell_type": "code",
   "execution_count": 17,
   "id": "2d0c4171-729c-416f-9356-e934bd24a113",
   "metadata": {},
   "outputs": [
    {
     "data": {
      "text/plain": [
       "[-1, -2, -3, -4, -5]"
      ]
     },
     "execution_count": 17,
     "metadata": {},
     "output_type": "execute_result"
    }
   ],
   "source": [
    "list(filter(lambda x: x<0,sl)) "
   ]
  },
  {
   "cell_type": "code",
   "execution_count": 18,
   "id": "425a4a27-5c9f-4196-bf32-81ebe0373f49",
   "metadata": {},
   "outputs": [
    {
     "data": {
      "text/plain": [
       "[1, 2, 3, 4, 5, 6, 0]"
      ]
     },
     "execution_count": 18,
     "metadata": {},
     "output_type": "execute_result"
    }
   ],
   "source": [
    "list(filter(lambda x: x>=0,sl))"
   ]
  },
  {
   "cell_type": "code",
   "execution_count": null,
   "id": "fc633e9a-c328-40dd-b852-d3e4755372f1",
   "metadata": {},
   "outputs": [],
   "source": []
  }
 ],
 "metadata": {
  "kernelspec": {
   "display_name": "Python 3 (ipykernel)",
   "language": "python",
   "name": "python3"
  },
  "language_info": {
   "codemirror_mode": {
    "name": "ipython",
    "version": 3
   },
   "file_extension": ".py",
   "mimetype": "text/x-python",
   "name": "python",
   "nbconvert_exporter": "python",
   "pygments_lexer": "ipython3",
   "version": "3.10.8"
  }
 },
 "nbformat": 4,
 "nbformat_minor": 5
}
