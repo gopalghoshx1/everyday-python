{
 "cells": [
  {
   "cell_type": "markdown",
   "id": "9dcc0387-0cef-4f94-9446-a12be48a41c1",
   "metadata": {},
   "source": [
    "# 14th feb"
   ]
  },
  {
   "cell_type": "markdown",
   "id": "f39e91f1-f99b-45c3-af68-44e62b5e5800",
   "metadata": {},
   "source": [
    "## Q1."
   ]
  },
  {
   "cell_type": "markdown",
   "id": "6d75aeea-ea3a-47d4-b5f0-590c012b35c5",
   "metadata": {},
   "source": [
    "Multithreading refers to concurrently executing multiple threads by rapidly switching the control of the CPU between threads (called context switching). The Python Global Interpreter Lock limits one thread to run at a time even if the machine contains multiple processors."
   ]
  },
  {
   "cell_type": "markdown",
   "id": "3f6178f1-8311-4324-b25f-1eea01183a99",
   "metadata": {},
   "source": [
    "Python multithreading enables efficient utilization of the resources as the threads share the data space and memory. Multithreading in Python allows the concurrent and parallel occurrence of various tasks. It causes a reduction in time consumption or response time, thereby increasing the performance."
   ]
  },
  {
   "cell_type": "markdown",
   "id": "05c9b995-74e9-4c45-9014-18cd9b0015e6",
   "metadata": {},
   "source": [
    "threading.activeCount() − Returns the number of thread objects that are active.\n",
    "\n",
    "threading.currentThread() − Returns the number of thread objects in the caller's thread control.\n",
    "\n",
    "threading.enumerate() − Returns a list of all thread objects that are currently active."
   ]
  },
  {
   "cell_type": "markdown",
   "id": "5f6e229b-a3dc-4850-9d91-79894c9dccbf",
   "metadata": {},
   "source": [
    "## Q2."
   ]
  },
  {
   "cell_type": "markdown",
   "id": "617f3ac7-7c93-46a5-a55e-bc121a20e88f",
   "metadata": {},
   "source": [
    "In Python, the method threading.active_co unt() from the threading module is used to count the currently active or running threads."
   ]
  },
  {
   "cell_type": "markdown",
   "id": "252fb401-6112-4ed8-af42-f41c3d1f61c3",
   "metadata": {},
   "source": [
    "threading.current_thread()\n",
    "Return the current Thread object, corresponding to the caller’s thread of control. If the caller’s thread of control was not created through the threading module, a dummy thread object with limited functionality is returned."
   ]
  },
  {
   "cell_type": "code",
   "execution_count": null,
   "id": "df467168-aa4f-4137-a0ee-76a493b663e1",
   "metadata": {},
   "outputs": [],
   "source": [
    "threading.enumerate()\n",
    "Return a list of all Thread objects currently active. The list includes daemonic threads and dummy thread objects created by current_thread(). It excludes terminated threads and threads that have not yet been started. However, the main thread is always part of the result, even when terminated."
   ]
  },
  {
   "cell_type": "markdown",
   "id": "004ce5ce-edd2-48b8-b7fb-0491ad1a45be",
   "metadata": {},
   "source": [
    "## Q3."
   ]
  },
  {
   "cell_type": "markdown",
   "id": "78e036a7-8e42-4895-b0dd-f40bdbff7720",
   "metadata": {},
   "source": [
    "run()\n",
    "To run Python scripts with the python command, you need to open a command-line and type in the word python , or python3 if you have both versions, followed by the path to your script"
   ]
  },
  {
   "cell_type": "markdown",
   "id": "14948dc3-947c-40da-b8e6-ec7278118f56",
   "metadata": {},
   "source": [
    "start()\n",
    "method is an inbuilt method of the Thread class of the threading module in Python. It is used to start a thread's activity."
   ]
  },
  {
   "cell_type": "markdown",
   "id": "bcdd7b4e-9aa2-4a98-b676-0878be8c6e61",
   "metadata": {},
   "source": [
    "join()\n",
    "A thread can be joined in Python by calling the Thread. join() method. This has the effect of blocking the current thread until the target thread that has been joined has terminated."
   ]
  },
  {
   "cell_type": "markdown",
   "id": "10d7e7be-5de0-4f1c-85c0-ae8f703953e1",
   "metadata": {},
   "source": [
    "is_alive() \n",
    "method is an inbuilt method of the Thread class of the threading module in Python. It uses a Thread object, and checks whether that thread is alive or not, ie, it is still running or not. This method returns True before the run() starts until just after the run() method is executed."
   ]
  },
  {
   "cell_type": "markdown",
   "id": "2d407f22-58db-4cf0-bb97-2b68564735b6",
   "metadata": {},
   "source": [
    "## Q4."
   ]
  },
  {
   "cell_type": "code",
   "execution_count": 54,
   "id": "b0c496b9-d52d-4895-bb5a-accd9a041de3",
   "metadata": {},
   "outputs": [],
   "source": [
    "import threading"
   ]
  },
  {
   "cell_type": "code",
   "execution_count": 58,
   "id": "d61f22c5-7d29-4bda-b7bf-1d5db8dc8569",
   "metadata": {},
   "outputs": [],
   "source": [
    "def sq(list1):\n",
    "    ny=[]\n",
    "    for i in list1:\n",
    "        i=(i**2)\n",
    "        ny.append(i)\n",
    "    print(ny)\n",
    "    \n",
    "\n",
    "def cube(list1):\n",
    "    ny=[]\n",
    "    for i in list1:\n",
    "        i=(i**3)\n",
    "        ny.append(i)\n",
    "    print(ny)\n",
    "    \n"
   ]
  },
  {
   "cell_type": "code",
   "execution_count": 59,
   "id": "13136e7f-2b08-45fb-8100-c2da5add3b69",
   "metadata": {},
   "outputs": [
    {
     "name": "stdout",
     "output_type": "stream",
     "text": [
      "[9, 16, 25, 3969, 49, 16]\n",
      "[27, 64, 125, 250047, 343, 64]\n"
     ]
    }
   ],
   "source": [
    "list1=[3,4,5,63,7,4]\n",
    "if __name__=='__main__':\n",
    "    m=threading.Thread(target= sq, args= (list1,))\n",
    "    m2= threading.Thread( target= cube, args=(list1,))\n",
    "    m.start()\n",
    "    m.join()\n",
    "    m2.start()\n",
    "    m2.join()"
   ]
  },
  {
   "cell_type": "markdown",
   "id": "62d55b12-38cb-417d-ab11-4015b4f79e2b",
   "metadata": {},
   "source": [
    "## Q5."
   ]
  },
  {
   "cell_type": "markdown",
   "id": "50bd98f6-72bd-44fe-aa9d-acd621fa1efa",
   "metadata": {},
   "source": [
    "This model provides more concurrency than the many-to-one model. It also allows another thread to run when a thread makes a blocking system call. It supports multiple threads to execute in parallel on microprocessors. Disadvantage of this model is that creating user thread requires the corresponding Kernel thread."
   ]
  },
  {
   "cell_type": "markdown",
   "id": "daf54e0e-8ce1-453f-8237-a36b7e0ad135",
   "metadata": {},
   "source": [
    "## Q6."
   ]
  },
  {
   "cell_type": "markdown",
   "id": "e8bf223d-e22c-4f26-9232-2f0dcc8f995f",
   "metadata": {},
   "source": [
    "deadlock. Two threads hold locks on different resources, each waiting indefinitely for the other to release its lock.\n",
    "race condition. Two (or more) threads alter the state of a shared resource concurrently, leaving it in an unpredictable state."
   ]
  },
  {
   "cell_type": "code",
   "execution_count": null,
   "id": "5b522f67-d062-45f4-9bea-9980d241cf47",
   "metadata": {},
   "outputs": [],
   "source": []
  },
  {
   "cell_type": "code",
   "execution_count": null,
   "id": "194eeb13-d553-4ee5-9d39-111b4ccd9a2d",
   "metadata": {},
   "outputs": [],
   "source": []
  },
  {
   "cell_type": "code",
   "execution_count": null,
   "id": "db0f9a6c-8d34-4404-8d81-518ba037217a",
   "metadata": {},
   "outputs": [],
   "source": []
  },
  {
   "cell_type": "code",
   "execution_count": null,
   "id": "423ee4b5-e664-428f-a166-50af15be5f0d",
   "metadata": {},
   "outputs": [],
   "source": []
  },
  {
   "cell_type": "code",
   "execution_count": null,
   "id": "56a50c45-2c0c-44cd-b755-13fa77f8539d",
   "metadata": {},
   "outputs": [],
   "source": []
  },
  {
   "cell_type": "code",
   "execution_count": null,
   "id": "9ff347c4-bc5e-49d9-ad7e-dfe13986c044",
   "metadata": {},
   "outputs": [],
   "source": []
  }
 ],
 "metadata": {
  "kernelspec": {
   "display_name": "Python 3 (ipykernel)",
   "language": "python",
   "name": "python3"
  },
  "language_info": {
   "codemirror_mode": {
    "name": "ipython",
    "version": 3
   },
   "file_extension": ".py",
   "mimetype": "text/x-python",
   "name": "python",
   "nbconvert_exporter": "python",
   "pygments_lexer": "ipython3",
   "version": "3.10.8"
  }
 },
 "nbformat": 4,
 "nbformat_minor": 5
}
