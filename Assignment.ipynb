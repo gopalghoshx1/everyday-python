{
 "cells": [
  {
   "cell_type": "markdown",
   "id": "6a97cb9e-7fbb-4cf3-9f55-da1285cdf920",
   "metadata": {},
   "source": [
    "# 3 feb Assignment"
   ]
  },
  {
   "cell_type": "markdown",
   "id": "b5525ec5-ee41-4a98-82ac-d60a87f8f6f0",
   "metadata": {},
   "source": [
    "# Q1. "
   ]
  },
  {
   "cell_type": "markdown",
   "id": "d022ae90-0960-443d-80e9-aa34bc26f4e2",
   "metadata": {},
   "source": [
    "# def key word used to create a function."
   ]
  },
  {
   "cell_type": "code",
   "execution_count": 5,
   "id": "fdb56049-1185-4b06-bef6-4aeb520cf150",
   "metadata": {},
   "outputs": [],
   "source": [
    "def even():\n",
    "    l=[]\n",
    "    for i in range (1,25):\n",
    "        if (i%2)!=0:\n",
    "            l.append(i)\n",
    "    return(l)\n",
    "    "
   ]
  },
  {
   "cell_type": "code",
   "execution_count": 6,
   "id": "ebbd1b1a-b41f-40e5-b1f0-1627b0eab20e",
   "metadata": {},
   "outputs": [
    {
     "data": {
      "text/plain": [
       "[1, 3, 5, 7, 9, 11, 13, 15, 17, 19, 21, 23]"
      ]
     },
     "execution_count": 6,
     "metadata": {},
     "output_type": "execute_result"
    }
   ],
   "source": [
    "even()"
   ]
  },
  {
   "cell_type": "markdown",
   "id": "2551d655-570a-4bdc-b0fa-7eb25912520d",
   "metadata": {},
   "source": [
    "# Q2."
   ]
  },
  {
   "cell_type": "markdown",
   "id": "4df39f5a-c474-423b-b235-7b551fe45a16",
   "metadata": {
    "tags": []
   },
   "source": [
    "## *args and **kwargs is used in some functions to take infinite input vaule and make dictionary"
   ]
  },
  {
   "cell_type": "code",
   "execution_count": 7,
   "id": "e8e7fab9-7104-417d-8698-22a9b85da6b7",
   "metadata": {},
   "outputs": [],
   "source": [
    "def ev(*args):\n",
    "    l1=[]\n",
    "    l=list(args)\n",
    "    for i in  l:\n",
    "        if type(i)== int:\n",
    "            if (i%2)!=0:\n",
    "                \n",
    "                l1.append(i)\n",
    "    return(l1)"
   ]
  },
  {
   "cell_type": "code",
   "execution_count": 9,
   "id": "1cf61a8e-18a4-45e4-8c40-0c4cbd0d0e3e",
   "metadata": {},
   "outputs": [
    {
     "data": {
      "text/plain": [
       "[1, 5, 5, 85, 741, 5, 5]"
      ]
     },
     "execution_count": 9,
     "metadata": {},
     "output_type": "execute_result"
    }
   ],
   "source": [
    "ev(1,5,6,2,5,2,85,4,2,6,4,6,4,8,741,22,6,54,5,6,\"uhoij\",\"jo0jioj\",5,\"i9i\")"
   ]
  },
  {
   "cell_type": "code",
   "execution_count": 16,
   "id": "e9aa22ee-efa4-44aa-8389-158133a66dde",
   "metadata": {},
   "outputs": [],
   "source": [
    "def evv(**args):\n",
    "    return(args)\n",
    "    "
   ]
  },
  {
   "cell_type": "code",
   "execution_count": 17,
   "id": "2aa76c64-6b5e-4cbc-9de0-d2cbab4b0e31",
   "metadata": {},
   "outputs": [
    {
     "data": {
      "text/plain": [
       "{'j': 5465, 'jf': 4887, 'jrrj': 5496, 'ryj': 6569, 'jrr': 88, 'nyt': 'ikjirg'}"
      ]
     },
     "execution_count": 17,
     "metadata": {},
     "output_type": "execute_result"
    }
   ],
   "source": [
    "evv(j=5465,jf=4887,jrrj=5496,ryj=6569,jrr=88,nyt=\"ikjirg\")"
   ]
  },
  {
   "cell_type": "markdown",
   "id": "75fcf04b-aebb-4548-b91f-5df79d4be2ec",
   "metadata": {},
   "source": [
    "# Q3."
   ]
  },
  {
   "cell_type": "markdown",
   "id": "183fc8d0-991c-418d-8a1e-50a6fb1b3349",
   "metadata": {
    "tags": []
   },
   "source": [
    "## An iterator is an object that contains a countable number of values. An iterator is an object that can be iterated upon, meaning that you can traverse through all the values."
   ]
  },
  {
   "cell_type": "code",
   "execution_count": 1,
   "id": "6905c1b9-3d72-4e96-9d8f-d2e361e785c0",
   "metadata": {},
   "outputs": [
    {
     "name": "stdout",
     "output_type": "stream",
     "text": [
      "[2, 4, 6, 8, 10]\n"
     ]
    }
   ],
   "source": [
    "ll=[2, 4, 6, 8, 10, 12, 14,16, 18, 20]\n",
    "lw=[]\n",
    "for i in range (0,5):\n",
    "    lw.append(ll[i])\n",
    "print(lw)\n",
    "    \n"
   ]
  },
  {
   "cell_type": "markdown",
   "id": "0f164602-5d1c-438e-978e-7e116ddec06c",
   "metadata": {},
   "source": [
    "# Q4."
   ]
  },
  {
   "cell_type": "markdown",
   "id": "72ecc93c-3fc7-4525-bab0-99c8ca7f2632",
   "metadata": {},
   "source": [
    "## generator function generate specific data or range"
   ]
  },
  {
   "cell_type": "code",
   "execution_count": null,
   "id": "e16f9d75-e34c-421c-a843-9234b6170cac",
   "metadata": {},
   "outputs": [],
   "source": []
  },
  {
   "cell_type": "markdown",
   "id": "b2210082-c1c3-4476-9774-fb9677014238",
   "metadata": {},
   "source": [
    "##  yield keyword is use to pul out veriable value from for loop in function"
   ]
  },
  {
   "cell_type": "code",
   "execution_count": null,
   "id": "d10f8754-4b80-480f-9af1-fc6953f63258",
   "metadata": {},
   "outputs": [],
   "source": []
  },
  {
   "cell_type": "markdown",
   "id": "b4f63a08-92cc-4d4e-b807-b7845d38ff95",
   "metadata": {},
   "source": [
    "## for loop is the best example of generate function"
   ]
  },
  {
   "cell_type": "markdown",
   "id": "9d5399f7-ebfa-488b-9401-53d57055dcd8",
   "metadata": {},
   "source": [
    "# Q5."
   ]
  },
  {
   "cell_type": "code",
   "execution_count": 61,
   "id": "ffaa4e46-d2d4-4ac3-856a-347f65120c57",
   "metadata": {},
   "outputs": [],
   "source": [
    "def pp():\n",
    "    \n",
    "    a=[]\n",
    "    for num in range(2, 1000 + 1):\n",
    "        \n",
    "  \n",
    "        if num > 1:\n",
    "            for i in range(2, num):\n",
    "                if (num % i) == 0:\n",
    "                    break\n",
    "            else:\n",
    "                 a.append(num)\n",
    "    return([*set(a)])"
   ]
  },
  {
   "cell_type": "code",
   "execution_count": 62,
   "id": "27d5c168-4bd9-4666-8bb9-e1bd08b284b1",
   "metadata": {},
   "outputs": [
    {
     "name": "stdout",
     "output_type": "stream",
     "text": [
      "2\n",
      "3\n",
      "5\n",
      "7\n",
      "11\n",
      "13\n",
      "17\n",
      "19\n",
      "23\n",
      "29\n",
      "31\n",
      "37\n",
      "41\n",
      "43\n",
      "47\n",
      "53\n",
      "59\n",
      "61\n",
      "67\n",
      "71\n"
     ]
    }
   ],
   "source": [
    "r=pp()\n",
    "r.sort()\n",
    "rr=iter(r)\n",
    "for i in range (0,20):\n",
    "    print(next(rr))\n",
    " "
   ]
  },
  {
   "cell_type": "markdown",
   "id": "16a51ad0-0dc6-488f-9a91-18eb9425e41d",
   "metadata": {},
   "source": [
    "# Q6."
   ]
  },
  {
   "cell_type": "code",
   "execution_count": 64,
   "id": "48156f33-5b59-40c9-8d42-15c7fcd3206f",
   "metadata": {},
   "outputs": [
    {
     "name": "stdout",
     "output_type": "stream",
     "text": [
      "0\n",
      "1\n",
      "1\n",
      "2\n",
      "3\n",
      "5\n",
      "8\n",
      "13\n",
      "21\n",
      "34\n"
     ]
    }
   ],
   "source": [
    "n=0\n",
    "a , b = 0 , 1\n",
    "while n<10:\n",
    "    print(a)\n",
    "    a,b = b, b+a\n",
    "    \n",
    "    n=n+1\n"
   ]
  },
  {
   "cell_type": "markdown",
   "id": "f44fab9c-1932-45c7-8fe9-6bf644c78d47",
   "metadata": {},
   "source": [
    "# Q7."
   ]
  },
  {
   "cell_type": "code",
   "execution_count": 66,
   "id": "88437781-80d9-42f9-9b31-756d491e379c",
   "metadata": {},
   "outputs": [
    {
     "data": {
      "text/plain": [
       "['p', 'w', 's', 'k', 'i', 'l', 'l', 's']"
      ]
     },
     "execution_count": 66,
     "metadata": {},
     "output_type": "execute_result"
    }
   ],
   "source": [
    "p=list(\"pwskills\")\n",
    "p"
   ]
  },
  {
   "cell_type": "markdown",
   "id": "79c65dd1-0267-439b-8792-d1191772dcd6",
   "metadata": {},
   "source": [
    "# Q8."
   ]
  },
  {
   "cell_type": "code",
   "execution_count": 10,
   "id": "3e88745e-7194-4539-98aa-8d7f1c7633fa",
   "metadata": {},
   "outputs": [
    {
     "name": "stdin",
     "output_type": "stream",
     "text": [
      "Enter the number you want ::  252\n"
     ]
    },
    {
     "name": "stdout",
     "output_type": "stream",
     "text": [
      "The number is palindrome!\n"
     ]
    }
   ],
   "source": [
    "num=int(input(\"Enter the number you want :: \"))\n",
    "temp=num\n",
    "rev=0\n",
    "while(num>0):\n",
    "    dig=num%10\n",
    "    rev=rev*10+dig\n",
    "    num=num//10\n",
    "if(temp==rev):\n",
    "    print(\"The number is palindrome!\")\n",
    "else:\n",
    "    print(\"Not a palindrome!\")"
   ]
  },
  {
   "cell_type": "markdown",
   "id": "37757b2c-7aed-4d2f-87ca-1a208709164b",
   "metadata": {},
   "source": [
    "# Q9."
   ]
  },
  {
   "cell_type": "code",
   "execution_count": 5,
   "id": "700f9543-5c08-4a32-a127-c460805428ea",
   "metadata": {},
   "outputs": [],
   "source": [
    "l=[i for i in range(1,101)]"
   ]
  },
  {
   "cell_type": "code",
   "execution_count": 7,
   "id": "ebeeb48b-01a3-49cd-9310-d42242b01733",
   "metadata": {},
   "outputs": [
    {
     "data": {
      "text/plain": [
       "[2,\n",
       " 4,\n",
       " 6,\n",
       " 8,\n",
       " 10,\n",
       " 12,\n",
       " 14,\n",
       " 16,\n",
       " 18,\n",
       " 20,\n",
       " 22,\n",
       " 24,\n",
       " 26,\n",
       " 28,\n",
       " 30,\n",
       " 32,\n",
       " 34,\n",
       " 36,\n",
       " 38,\n",
       " 40,\n",
       " 42,\n",
       " 44,\n",
       " 46,\n",
       " 48,\n",
       " 50,\n",
       " 52,\n",
       " 54,\n",
       " 56,\n",
       " 58,\n",
       " 60,\n",
       " 62,\n",
       " 64,\n",
       " 66,\n",
       " 68,\n",
       " 70,\n",
       " 72,\n",
       " 74,\n",
       " 76,\n",
       " 78,\n",
       " 80,\n",
       " 82,\n",
       " 84,\n",
       " 86,\n",
       " 88,\n",
       " 90,\n",
       " 92,\n",
       " 94,\n",
       " 96,\n",
       " 98,\n",
       " 100]"
      ]
     },
     "execution_count": 7,
     "metadata": {},
     "output_type": "execute_result"
    }
   ],
   "source": [
    "list(filter(lambda x: x%2==0,l))"
   ]
  }
 ],
 "metadata": {
  "kernelspec": {
   "display_name": "Python 3 (ipykernel)",
   "language": "python",
   "name": "python3"
  },
  "language_info": {
   "codemirror_mode": {
    "name": "ipython",
    "version": 3
   },
   "file_extension": ".py",
   "mimetype": "text/x-python",
   "name": "python",
   "nbconvert_exporter": "python",
   "pygments_lexer": "ipython3",
   "version": "3.10.8"
  }
 },
 "nbformat": 4,
 "nbformat_minor": 5
}
