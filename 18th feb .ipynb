{
 "cells": [
  {
   "cell_type": "markdown",
   "id": "aea78097-435d-48e4-b56a-bc22b61a9b22",
   "metadata": {},
   "source": [
    "# 18th feb Assignment \n",
    "# Web Api"
   ]
  },
  {
   "cell_type": "markdown",
   "id": "3e81c17a-3f85-46bd-9fd0-31a64088759a",
   "metadata": {},
   "source": [
    "### Q1."
   ]
  },
  {
   "cell_type": "markdown",
   "id": "2a9da8c7-bcf5-43ff-a3cf-15bec31ca29d",
   "metadata": {},
   "source": [
    "APIs are used in web applications to connect user-facing front ends with critical back-end functionality and data. APIs are used to deliver material by streaming services such as Spotify and Netflix. APIs are used by automakers such as Tesla to provide software upgrades."
   ]
  },
  {
   "cell_type": "markdown",
   "id": "4bd44aff-1035-4c1a-b31c-6909626287e5",
   "metadata": {},
   "source": [
    "### Q2."
   ]
  },
  {
   "cell_type": "markdown",
   "id": "581c4fcf-b92d-4db7-a741-71ffde2bbcaa",
   "metadata": {},
   "source": [
    "Pro: No More Drowning in Details.\n",
    "\n",
    "Pro: Simplifying Unnecessary Complexities for Speed.\n",
    "\n",
    "Con: More Generation = Loss of Control.\n",
    "\n",
    "Pro: Lighter Load for DevOps.\n",
    "\n",
    "Pro: Greater Alignment."
   ]
  },
  {
   "cell_type": "markdown",
   "id": "0b389546-b197-4df9-a81f-83d0190fa91e",
   "metadata": {},
   "source": [
    "### Q3.\n"
   ]
  },
  {
   "cell_type": "markdown",
   "id": "0c989167-03cf-4f1e-8603-09938cfcac54",
   "metadata": {},
   "source": [
    "In computer programming, an application programming interface (API) is a set of subroutine definitions, protocols, and tools for building software and applications.\n",
    "\n",
    "To put it in simple terms, API is some kind of interface which has a set of functions that allow programmers to access specific features or data of an application, operating system or other services.\n",
    "\n",
    "Web API as the name suggests, is an API over the web which can be accessed using HTTP protocol. It is a concept and not a technology. We can build Web API using different technologies such as Java, .NET etc. For example"
   ]
  },
  {
   "cell_type": "markdown",
   "id": "4cb535a5-5419-40ea-8c5f-53ef449e7acb",
   "metadata": {},
   "source": [
    "APIs and Web Services: Similar, but Not Identical\n",
    "\n",
    "Both APIs and web services are technologies that enable the transfer of data between separate software applications. API is an interface that exposes an application's data to outside software, whereas web applications are one type of API with stricter requirements."
   ]
  },
  {
   "cell_type": "markdown",
   "id": "fa526c06-f243-4bbb-b4e4-dfae7ce905f1",
   "metadata": {},
   "source": [
    "### Q4."
   ]
  },
  {
   "cell_type": "markdown",
   "id": "287c3c54-22e3-45d2-8a83-e18d2a569973",
   "metadata": {},
   "source": [
    "SOAP is a protocol whereas REST is an architectural pattern. SOAP uses service interfaces to expose its functionality to client applications while REST uses Uniform Service locators to access to the components on the hardware device. SOAP needs more bandwidth for its usage whereas REST doesn't need much bandwidth."
   ]
  },
  {
   "cell_type": "markdown",
   "id": "db8571d6-cbfc-4e00-94cc-340b780c0ca6",
   "metadata": {},
   "source": [
    "Limitations of Soaps• Soaps do not wash well in hard water and does not form much lather or foam. The calcium magnesium or iron ions of hard water form an insoluble sticky grey coloured precipitate called scum which restricts the cleansing action of soap and makes washing more difficult."
   ]
  },
  {
   "cell_type": "markdown",
   "id": "3416d05c-0c27-4691-ac2c-95132e469014",
   "metadata": {},
   "source": [
    "### Q5."
   ]
  },
  {
   "cell_type": "markdown",
   "id": "5889c17d-da22-4040-aa8a-cff039bde755",
   "metadata": {},
   "source": [
    "SOAP is a protocol, whereas REST is an architectural style\n",
    "An API is designed to expose certain aspects of an application’s business logic on a server, and SOAP uses a service interface to do this while REST uses URIs. While SOAP APIs are designed after the functions that the API exposes, REST APIs are designed after the data. For example, a SOAP API that exposes functionality to create a user might include a function called \"CreateUser\" that would be specified in the SOAP body. A REST API would instead expose a URL /users, and a POST request towards that URL would create a user.\n",
    "\n",
    "REST APIs access a resource for data (a URI); SOAP APIs perform an operation\n",
    "REST is an architecture that’s more data-driven, while SOAP is a standardized protocol for transferring structured information that’s more function-driven. REST permits many different data formats, including plain text, HTML, XML, and JSON, which is a great fit for data and yields more browser compatibility; SOAP only uses XML. SOAP APIs are limited to using XML and the format including the SOAP envelope, header, and body, as we saw in the example above. REST APIs are, however, format agnostic. While the most common format is JSON, formats such as XML, plain text, and XML are also valid for REST APIs."
   ]
  }
 ],
 "metadata": {
  "kernelspec": {
   "display_name": "Python 3 (ipykernel)",
   "language": "python",
   "name": "python3"
  },
  "language_info": {
   "codemirror_mode": {
    "name": "ipython",
    "version": 3
   },
   "file_extension": ".py",
   "mimetype": "text/x-python",
   "name": "python",
   "nbconvert_exporter": "python",
   "pygments_lexer": "ipython3",
   "version": "3.10.8"
  }
 },
 "nbformat": 4,
 "nbformat_minor": 5
}
