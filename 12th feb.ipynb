{
 "cells": [
  {
   "cell_type": "markdown",
   "id": "301a6025-0b52-46d2-a792-bff7a3b54aa1",
   "metadata": {},
   "source": [
    "# 12th feb"
   ]
  },
  {
   "cell_type": "markdown",
   "id": "bc72d023-e985-4772-a4e3-fec7dab5db6d",
   "metadata": {},
   "source": [
    "## Q1."
   ]
  },
  {
   "cell_type": "markdown",
   "id": "3b47c5c1-3b1b-4692-b9cd-80926afec874",
   "metadata": {},
   "source": [
    "An exception can be a string, a class or an object. Most of the exceptions that the Python core raises are classes, with an argument that is an instance of the class."
   ]
  },
  {
   "cell_type": "markdown",
   "id": "a36af851-1a96-47e3-a3f7-f55090a6a89c",
   "metadata": {},
   "source": [
    "Both exceptions and errors are the subclasses of a throwable class. The error implies a problem that mostly arises due to the shortage of system resources. On the other hand, the exceptions occur during runtime and compile time."
   ]
  },
  {
   "cell_type": "markdown",
   "id": "0422c4ae-edbd-4257-905b-6eb130adb644",
   "metadata": {},
   "source": [
    "## Q2."
   ]
  },
  {
   "cell_type": "markdown",
   "id": "9b964c7c-0605-451e-beca-57005673b9b4",
   "metadata": {},
   "source": [
    "What happens if an exception is not caught? If an exception is not caught (with a catch block), the runtime system will abort the program (i.e. crash) and an exception message will print to the console"
   ]
  },
  {
   "cell_type": "code",
   "execution_count": 1,
   "id": "331c7543-a0cf-4aa1-9cd7-780b79a4714a",
   "metadata": {},
   "outputs": [
    {
     "ename": "ZeroDivisionError",
     "evalue": "division by zero",
     "output_type": "error",
     "traceback": [
      "\u001b[0;31m---------------------------------------------------------------------------\u001b[0m",
      "\u001b[0;31mZeroDivisionError\u001b[0m                         Traceback (most recent call last)",
      "Cell \u001b[0;32mIn[1], line 3\u001b[0m\n\u001b[1;32m      1\u001b[0m i\u001b[38;5;241m=\u001b[39m\u001b[38;5;241m867\u001b[39m\n\u001b[1;32m      2\u001b[0m t\u001b[38;5;241m=\u001b[39m\u001b[38;5;241m858\u001b[39m\n\u001b[0;32m----> 3\u001b[0m b\u001b[38;5;241m=\u001b[39m\u001b[43mi\u001b[49m\u001b[38;5;241;43m/\u001b[39;49m\u001b[38;5;241;43m0\u001b[39;49m\u001b[38;5;241m+\u001b[39mt\n\u001b[1;32m      4\u001b[0m \u001b[38;5;28mprint\u001b[39m(b)\n",
      "\u001b[0;31mZeroDivisionError\u001b[0m: division by zero"
     ]
    }
   ],
   "source": [
    "i=867\n",
    "t=858\n",
    "b=i/0+t\n",
    "print(b)"
   ]
  },
  {
   "cell_type": "markdown",
   "id": "c4e0e66e-9883-40fe-8cf3-f63363b77b48",
   "metadata": {},
   "source": [
    "## Q3."
   ]
  },
  {
   "cell_type": "markdown",
   "id": "c44395a8-7a91-4b2a-84f8-4300fe1c5a91",
   "metadata": {},
   "source": [
    "The try and except block in Python is used to catch and handle exceptions. Python executes code following the try statement as a “normal” part of the program. The code that follows the except statement is the program's response to any exceptions in the preceding try clause."
   ]
  },
  {
   "cell_type": "code",
   "execution_count": 4,
   "id": "29af1de3-0c82-47d5-8c0d-77e31409fdec",
   "metadata": {},
   "outputs": [
    {
     "name": "stdout",
     "output_type": "stream",
     "text": [
      "this is division by zero\n"
     ]
    }
   ],
   "source": [
    "i=867\n",
    "t=858\n",
    "try:\n",
    "    b=i/0+t\n",
    "except ZeroDivisionError as e:\n",
    "    print(\"this is {}\".format(e))\n",
    "    "
   ]
  },
  {
   "cell_type": "markdown",
   "id": "2e8356bf-bcae-4798-975b-a60aa3fe43dc",
   "metadata": {},
   "source": [
    "## Q4."
   ]
  },
  {
   "cell_type": "code",
   "execution_count": 8,
   "id": "1dbfa32d-44fb-401b-9275-65806520a6df",
   "metadata": {},
   "outputs": [
    {
     "name": "stdout",
     "output_type": "stream",
     "text": [
      "division by zero\n"
     ]
    }
   ],
   "source": [
    "try:\n",
    "    6/0\n",
    "except ZeroDivisionError as e:\n",
    "    print(e)\n",
    "else:\n",
    "    print(\"ur code is printed\")"
   ]
  },
  {
   "cell_type": "code",
   "execution_count": 10,
   "id": "9a31208f-9054-4676-ac6a-6d696437402c",
   "metadata": {},
   "outputs": [
    {
     "name": "stdout",
     "output_type": "stream",
     "text": [
      "division by zero\n",
      "thank you for ur time\n"
     ]
    }
   ],
   "source": [
    "try:\n",
    "    6/0\n",
    "except ZeroDivisionError as e:\n",
    "    print(e)\n",
    "finally:\n",
    "    print(\"thank you for ur time\")\n",
    "    "
   ]
  },
  {
   "cell_type": "code",
   "execution_count": 19,
   "id": "47846a84-e65a-411d-ae2f-f0792653d114",
   "metadata": {},
   "outputs": [
    {
     "name": "stdin",
     "output_type": "stream",
     "text": [
      "Enter a number 5\n"
     ]
    },
    {
     "ename": "Exception",
     "evalue": "yes its a number",
     "output_type": "error",
     "traceback": [
      "\u001b[0;31m---------------------------------------------------------------------------\u001b[0m",
      "\u001b[0;31mException\u001b[0m                                 Traceback (most recent call last)",
      "Cell \u001b[0;32mIn[19], line 3\u001b[0m\n\u001b[1;32m      1\u001b[0m inputdata\u001b[38;5;241m=\u001b[39m(\u001b[38;5;28minput\u001b[39m(\u001b[38;5;124m\"\u001b[39m\u001b[38;5;124mEnter a number\u001b[39m\u001b[38;5;124m\"\u001b[39m))\n\u001b[1;32m      2\u001b[0m \u001b[38;5;28;01mif\u001b[39;00m inputdata\u001b[38;5;241m.\u001b[39misnumeric():\n\u001b[0;32m----> 3\u001b[0m     \u001b[38;5;28;01mraise\u001b[39;00m \u001b[38;5;167;01mException\u001b[39;00m(\u001b[38;5;124m\"\u001b[39m\u001b[38;5;124myes its a number\u001b[39m\u001b[38;5;124m\"\u001b[39m)\n",
      "\u001b[0;31mException\u001b[0m: yes its a number"
     ]
    }
   ],
   "source": [
    "inputdata=(input(\"Enter a number\"))\n",
    "if inputdata.isnumeric():\n",
    "    raise Exception(\"yes its a number\")"
   ]
  },
  {
   "cell_type": "markdown",
   "id": "4f9f3df0-96bc-4c37-9b9a-f1fe2a9cbd92",
   "metadata": {},
   "source": [
    "## Q5."
   ]
  },
  {
   "cell_type": "markdown",
   "id": "7cfb4b41-4678-4e66-bcaf-513c2cb36644",
   "metadata": {},
   "source": [
    "In this tutorial, we will learn how to define custom exceptions depending upon our requirements with the help of examples."
   ]
  },
  {
   "cell_type": "markdown",
   "id": "8308d978-76c1-41b6-be60-e41eff199eba",
   "metadata": {},
   "source": [
    "Following are few of the reasons to use custom exceptions: To catch and provide specific treatment to a subset of existing Java exceptions. Business logic exceptions: These are the exceptions related to business logic and workflow."
   ]
  },
  {
   "cell_type": "code",
   "execution_count": 34,
   "id": "6c13419f-7dd6-4d00-9d72-b8e40d8a1d92",
   "metadata": {},
   "outputs": [],
   "source": [
    "class validage(Exception):\n",
    "    def __init__(self,msg):\n",
    "        \n",
    "        self.msg=msg"
   ]
  },
  {
   "cell_type": "code",
   "execution_count": 35,
   "id": "4d6f8fce-2823-4170-9842-7f7f3686a73f",
   "metadata": {
    "tags": []
   },
   "outputs": [
    {
     "name": "stdin",
     "output_type": "stream",
     "text": [
      "Enter the number of ur age  5\n"
     ]
    },
    {
     "ename": "validage",
     "evalue": "You cannot be able to drive.",
     "output_type": "error",
     "traceback": [
      "\u001b[0;31m---------------------------------------------------------------------------\u001b[0m",
      "\u001b[0;31mvalidage\u001b[0m                                  Traceback (most recent call last)",
      "Cell \u001b[0;32mIn[35], line 3\u001b[0m\n\u001b[1;32m      1\u001b[0m age\u001b[38;5;241m=\u001b[39m\u001b[38;5;28mint\u001b[39m(\u001b[38;5;28minput\u001b[39m(\u001b[38;5;124m\"\u001b[39m\u001b[38;5;124mEnter the number of ur age \u001b[39m\u001b[38;5;124m\"\u001b[39m))\n\u001b[1;32m      2\u001b[0m \u001b[38;5;28;01mif\u001b[39;00m age\u001b[38;5;241m<\u001b[39m\u001b[38;5;241m=\u001b[39m\u001b[38;5;241m18\u001b[39m:\n\u001b[0;32m----> 3\u001b[0m     \u001b[38;5;28;01mraise\u001b[39;00m validage(\u001b[38;5;124m\"\u001b[39m\u001b[38;5;124mYou cannot be able to drive.\u001b[39m\u001b[38;5;124m\"\u001b[39m)\n",
      "\u001b[0;31mvalidage\u001b[0m: You cannot be able to drive."
     ]
    }
   ],
   "source": [
    "age=int(input(\"Enter the number of ur age \"))\n",
    "if age<=18:\n",
    "    raise validage(\"You cannot be able to drive.\")\n",
    "\n",
    "        "
   ]
  },
  {
   "cell_type": "markdown",
   "id": "ad5742d4-fc22-4426-b4e1-ce0d066ccdbe",
   "metadata": {},
   "source": [
    " ## Q6."
   ]
  },
  {
   "cell_type": "code",
   "execution_count": 7,
   "id": "e2842396-d5c2-469c-8833-e272980a8826",
   "metadata": {},
   "outputs": [],
   "source": [
    "class cust(Exception):\n",
    "    def __init__(self,msg):\n",
    "        self.msg=msg\n",
    "def custo(age):\n",
    "    if age<= 18:\n",
    "        raise cust(\"cant drive\")\n",
    "    elif age>18:\n",
    "        raise cust(\"can drive\")\n",
    "    \n",
    "    "
   ]
  },
  {
   "cell_type": "code",
   "execution_count": null,
   "id": "a3012418-e576-474c-ab55-1f772283b8bc",
   "metadata": {},
   "outputs": [],
   "source": [
    "try:\n",
    "    i=int(input(\"Enter your age\"))\n",
    "    custo(i)\n",
    "except cust as c:\n",
    "    print(c)\n",
    "    \n"
   ]
  }
 ],
 "metadata": {
  "kernelspec": {
   "display_name": "Python 3 (ipykernel)",
   "language": "python",
   "name": "python3"
  },
  "language_info": {
   "codemirror_mode": {
    "name": "ipython",
    "version": 3
   },
   "file_extension": ".py",
   "mimetype": "text/x-python",
   "name": "python",
   "nbconvert_exporter": "python",
   "pygments_lexer": "ipython3",
   "version": "3.10.8"
  }
 },
 "nbformat": 4,
 "nbformat_minor": 5
}
