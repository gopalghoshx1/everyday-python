{
 "cells": [
  {
   "cell_type": "markdown",
   "id": "467f857f-6aec-43ac-9f4c-a958a4efae3c",
   "metadata": {},
   "source": [
    "# Assignment 4th feb"
   ]
  },
  {
   "cell_type": "markdown",
   "id": "e90cfc96-abf9-40f4-bb67-158201177f68",
   "metadata": {},
   "source": [
    "# Q1. "
   ]
  },
  {
   "cell_type": "code",
   "execution_count": 17,
   "id": "37397cbf-4c46-4017-b24a-9e9202daacaa",
   "metadata": {},
   "outputs": [],
   "source": [
    "l=[('Sachin Tendulkar', 34357), ('Ricky Ponting', 27483), ('Jack Kallis', 25534), ('Virat Kohli', 24936)]"
   ]
  },
  {
   "cell_type": "code",
   "execution_count": 19,
   "id": "9a832ea6-5bf4-4141-b712-f7687b04e420",
   "metadata": {},
   "outputs": [
    {
     "data": {
      "text/plain": [
       "[('Virat Kohli', 24936),\n",
       " ('Jack Kallis', 25534),\n",
       " ('Ricky Ponting', 27483),\n",
       " ('Sachin Tendulkar', 34357)]"
      ]
     },
     "execution_count": 19,
     "metadata": {},
     "output_type": "execute_result"
    }
   ],
   "source": [
    "l.sort(key = lambda x: x[1])\n",
    "l"
   ]
  },
  {
   "cell_type": "markdown",
   "id": "e7aa39f8-cb83-4c09-b4d7-141f9b24bce7",
   "metadata": {},
   "source": [
    "# Q2."
   ]
  },
  {
   "cell_type": "code",
   "execution_count": 14,
   "id": "efcf94c4-2c68-4d5c-8776-d48999e87792",
   "metadata": {},
   "outputs": [],
   "source": [
    "li=[1, 2, 3, 4, 5, 6, 7, 8, 9, 10]"
   ]
  },
  {
   "cell_type": "code",
   "execution_count": 17,
   "id": "1308160f-0f92-4336-aa22-ae5141f553a0",
   "metadata": {},
   "outputs": [
    {
     "data": {
      "text/plain": [
       "[1, 4, 9, 16, 25, 36, 49, 64, 81, 100]"
      ]
     },
     "execution_count": 17,
     "metadata": {},
     "output_type": "execute_result"
    }
   ],
   "source": [
    "list(map(lambda x: x**2,li))"
   ]
  },
  {
   "cell_type": "code",
   "execution_count": null,
   "id": "5e2a8ab8-2e8f-4abb-bd51-aaccaf0e258e",
   "metadata": {},
   "outputs": [],
   "source": []
  },
  {
   "cell_type": "markdown",
   "id": "a7ae5c8e-1934-4edf-8c1d-9c3d5eeb15a9",
   "metadata": {},
   "source": [
    "# Q3."
   ]
  },
  {
   "cell_type": "code",
   "execution_count": 18,
   "id": "d561dec5-54e1-4fcb-b237-9a2f6f0132de",
   "metadata": {},
   "outputs": [],
   "source": [
    "l9=[1, 2, 3, 4, 5, 6, 7, 8, 9, 10]"
   ]
  },
  {
   "cell_type": "code",
   "execution_count": 19,
   "id": "7e2b1136-ef73-4f35-ad8f-8e0dc1344f65",
   "metadata": {},
   "outputs": [
    {
     "data": {
      "text/plain": [
       "('1', '2', '3', '4', '5', '6', '7', '8', '9', '10')"
      ]
     },
     "execution_count": 19,
     "metadata": {},
     "output_type": "execute_result"
    }
   ],
   "source": [
    "tuple(map(lambda x: str(x),l9))"
   ]
  },
  {
   "cell_type": "markdown",
   "id": "eed67db2-9bc1-40cd-87b1-39b254ac30d1",
   "metadata": {},
   "source": [
    "# Q4."
   ]
  },
  {
   "cell_type": "code",
   "execution_count": 8,
   "id": "0ca42e4e-638e-494c-9040-8117fffbb012",
   "metadata": {},
   "outputs": [],
   "source": [
    "from functools import reduce"
   ]
  },
  {
   "cell_type": "code",
   "execution_count": 2,
   "id": "497f4783-7365-47f9-bdde-935b36c21272",
   "metadata": {},
   "outputs": [
    {
     "data": {
      "text/plain": [
       "[1,\n",
       " 2,\n",
       " 3,\n",
       " 4,\n",
       " 5,\n",
       " 6,\n",
       " 7,\n",
       " 8,\n",
       " 9,\n",
       " 10,\n",
       " 11,\n",
       " 12,\n",
       " 13,\n",
       " 14,\n",
       " 15,\n",
       " 16,\n",
       " 17,\n",
       " 18,\n",
       " 19,\n",
       " 20,\n",
       " 21,\n",
       " 22,\n",
       " 23,\n",
       " 24,\n",
       " 25]"
      ]
     },
     "execution_count": 2,
     "metadata": {},
     "output_type": "execute_result"
    }
   ],
   "source": [
    "la=[i for i in range(1,26)]\n",
    "la"
   ]
  },
  {
   "cell_type": "code",
   "execution_count": 9,
   "id": "68e4de3d-92a3-4322-ac9c-e8e265820b04",
   "metadata": {},
   "outputs": [
    {
     "data": {
      "text/plain": [
       "325"
      ]
     },
     "execution_count": 9,
     "metadata": {},
     "output_type": "execute_result"
    }
   ],
   "source": [
    "reduce(lambda a , b : a + b ,la)"
   ]
  },
  {
   "cell_type": "markdown",
   "id": "7c88c97a-318e-4dfc-a2a6-06999a20a27f",
   "metadata": {},
   "source": [
    "# Q5."
   ]
  },
  {
   "cell_type": "code",
   "execution_count": 12,
   "id": "e4779217-aec7-4bb0-8ee1-17219e9ecaf0",
   "metadata": {},
   "outputs": [],
   "source": [
    "g=[2, 3, 6, 9, 27, 60, 90, 120, 55, 46]"
   ]
  },
  {
   "cell_type": "code",
   "execution_count": 13,
   "id": "aeddf6fa-4c19-4468-aa90-09d1d4037780",
   "metadata": {},
   "outputs": [
    {
     "data": {
      "text/plain": [
       "[6, 60, 90, 120]"
      ]
     },
     "execution_count": 13,
     "metadata": {},
     "output_type": "execute_result"
    }
   ],
   "source": [
    "list(filter(lambda x: x%2==0 and x%3==0 ,g))"
   ]
  },
  {
   "cell_type": "markdown",
   "id": "68da3347-8add-427b-bb12-612027afebe6",
   "metadata": {},
   "source": [
    "# Q6."
   ]
  },
  {
   "cell_type": "code",
   "execution_count": 14,
   "id": "c7c518e7-aa91-427f-92d6-47060ad22139",
   "metadata": {},
   "outputs": [],
   "source": [
    "o=['python', 'php', 'aba', 'radar', 'level']"
   ]
  },
  {
   "cell_type": "code",
   "execution_count": 16,
   "id": "687130f9-2a8b-45a7-9af5-c4de31b39774",
   "metadata": {},
   "outputs": [
    {
     "data": {
      "text/plain": [
       "['php', 'aba', 'radar', 'level']"
      ]
     },
     "execution_count": 16,
     "metadata": {},
     "output_type": "execute_result"
    }
   ],
   "source": [
    "list(filter(lambda x: x==(x[::-1]),o))"
   ]
  },
  {
   "cell_type": "code",
   "execution_count": null,
   "id": "4e3bf6bc-7762-4748-906d-240c13701f4f",
   "metadata": {},
   "outputs": [],
   "source": []
  },
  {
   "cell_type": "code",
   "execution_count": null,
   "id": "cfea189b-b4f9-4b1a-8395-4fd34472a9db",
   "metadata": {},
   "outputs": [],
   "source": []
  },
  {
   "cell_type": "code",
   "execution_count": null,
   "id": "b69f4645-02e7-4d03-b272-7b8bd0df018e",
   "metadata": {},
   "outputs": [],
   "source": []
  }
 ],
 "metadata": {
  "kernelspec": {
   "display_name": "Python 3 (ipykernel)",
   "language": "python",
   "name": "python3"
  },
  "language_info": {
   "codemirror_mode": {
    "name": "ipython",
    "version": 3
   },
   "file_extension": ".py",
   "mimetype": "text/x-python",
   "name": "python",
   "nbconvert_exporter": "python",
   "pygments_lexer": "ipython3",
   "version": "3.10.8"
  }
 },
 "nbformat": 4,
 "nbformat_minor": 5
}
