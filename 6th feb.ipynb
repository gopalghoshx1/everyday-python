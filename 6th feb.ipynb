{
 "cells": [
  {
   "cell_type": "markdown",
   "id": "54e9f0c8-6e44-403d-a001-b1e2fc8d080f",
   "metadata": {},
   "source": [
    "# Assignment 6th feb"
   ]
  },
  {
   "cell_type": "markdown",
   "id": "aa242034-debf-4704-a3c3-799610730304",
   "metadata": {},
   "source": [
    "# Q1."
   ]
  },
  {
   "cell_type": "code",
   "execution_count": 13,
   "id": "d13a47ed-331c-4624-b6b8-46feafd6ad98",
   "metadata": {},
   "outputs": [],
   "source": [
    "list1 = [1,2,3,4, [44,55,66, True], False, (34,56,78,89,34), {1,2,3,3,2,1}, {1:34, \"key2\": [55, 67, 78, 89], 4: (45,\n",
    "22, 61, 34)}, [56, 'data science'], 'Machine Learning']"
   ]
  },
  {
   "cell_type": "code",
   "execution_count": 14,
   "id": "6cbf85c3-b89e-4ae2-8570-3bdc178bdd20",
   "metadata": {},
   "outputs": [],
   "source": [
    "\n",
    "\n",
    "\n",
    "def cn(lsit1):\n",
    "    num=[]\n",
    "    for i in list1:\n",
    "        if type(i)== int:\n",
    "            num.append(i)\n",
    "        elif type(i)== list or type(i)==tuple:\n",
    "            for l in i:\n",
    "                if type(l)== int:\n",
    "                    num.append(l)\n",
    "        elif type(i) == set:\n",
    "            for e in i:\n",
    "                if type(e)== int:\n",
    "                    num.append(e)\n",
    "        elif type(i)== dict:\n",
    "            for d in i.values():\n",
    "                if type(d)== int:\n",
    "                    num.append(d)\n",
    "                    \n",
    "                elif type(d)== list or type(i)==tuple:\n",
    "                    for ll in i:\n",
    "                        if type(ll)== int:\n",
    "                            num.append(ll)\n",
    "                    \n",
    "                \n",
    "            for key in i.keys():\n",
    "                if type(key)== int:\n",
    "                    num.append(key)\n",
    "    print(num)\n",
    "                    \n",
    "    "
   ]
  },
  {
   "cell_type": "code",
   "execution_count": 15,
   "id": "7af9dee9-72e6-414e-8678-41fd6fac1c77",
   "metadata": {},
   "outputs": [
    {
     "name": "stdout",
     "output_type": "stream",
     "text": [
      "[1, 2, 3, 4, 44, 55, 66, 34, 56, 78, 89, 34, 1, 2, 3, 34, 1, 4, 1, 4, 56]\n"
     ]
    }
   ],
   "source": [
    " cn(list1)"
   ]
  },
  {
   "cell_type": "markdown",
   "id": "cc14a6a1-8770-47a6-ba74-7e1d8137027a",
   "metadata": {},
   "source": [
    "# Q2."
   ]
  },
  {
   "cell_type": "code",
   "execution_count": 16,
   "id": "b3ec1f8b-c1c7-4de3-9d06-41920afcc342",
   "metadata": {},
   "outputs": [],
   "source": [
    "def eny(c):\n",
    "    v=c.lower()\n",
    "    tt=v.replace(\"a\",\"z\").replace(\"b\",\"y\").replace(\"c\",\"x\").replace(\" \",\"$\")\n",
    "    return(tt)"
   ]
  },
  {
   "cell_type": "code",
   "execution_count": 17,
   "id": "2dd350fc-58d8-4582-86b4-0e485f35053b",
   "metadata": {},
   "outputs": [
    {
     "data": {
      "text/plain": [
       "'i$wznt$to$yexome$z$dztz$sxientist.'"
      ]
     },
     "execution_count": 17,
     "metadata": {},
     "output_type": "execute_result"
    }
   ],
   "source": [
    "eny(\"I want to become a Data Scientist.\")"
   ]
  },
  {
   "cell_type": "code",
   "execution_count": null,
   "id": "cd7190e5-3edd-4fa6-aff7-56e2a497884f",
   "metadata": {},
   "outputs": [],
   "source": []
  },
  {
   "cell_type": "code",
   "execution_count": null,
   "id": "b1ba85cc-37cc-4e07-83d1-62df8f8dd67d",
   "metadata": {},
   "outputs": [],
   "source": []
  },
  {
   "cell_type": "code",
   "execution_count": null,
   "id": "739bcb93-6534-499f-986c-e6554c80bae9",
   "metadata": {},
   "outputs": [],
   "source": []
  },
  {
   "cell_type": "code",
   "execution_count": null,
   "id": "8f7f4de7-599f-464c-88fe-bb0acc514e90",
   "metadata": {},
   "outputs": [],
   "source": []
  },
  {
   "cell_type": "code",
   "execution_count": null,
   "id": "79025394-55c1-4d78-b2e5-99f79fc9ea6a",
   "metadata": {},
   "outputs": [],
   "source": []
  },
  {
   "cell_type": "code",
   "execution_count": null,
   "id": "9333e557-40b3-4b3d-afc8-ee4d689d8ec9",
   "metadata": {},
   "outputs": [],
   "source": []
  },
  {
   "cell_type": "code",
   "execution_count": null,
   "id": "187d3771-639b-41c1-a1a3-29b8df60a741",
   "metadata": {},
   "outputs": [],
   "source": []
  },
  {
   "cell_type": "code",
   "execution_count": null,
   "id": "d5eaefd9-5aad-47a7-bf59-dca9b9616495",
   "metadata": {},
   "outputs": [],
   "source": []
  },
  {
   "cell_type": "code",
   "execution_count": null,
   "id": "f974f23a-05e0-4f73-a19d-425e13657cc1",
   "metadata": {},
   "outputs": [],
   "source": []
  },
  {
   "cell_type": "code",
   "execution_count": null,
   "id": "613cabf6-bf99-43b8-a196-e5b7d1ee2d5f",
   "metadata": {},
   "outputs": [],
   "source": []
  },
  {
   "cell_type": "code",
   "execution_count": null,
   "id": "cec2b5e9-ff75-498f-ac10-fbbceb0f7bc0",
   "metadata": {},
   "outputs": [],
   "source": []
  },
  {
   "cell_type": "code",
   "execution_count": null,
   "id": "926f7545-9dec-41d5-bbd1-4872b86a49ad",
   "metadata": {},
   "outputs": [],
   "source": []
  },
  {
   "cell_type": "code",
   "execution_count": null,
   "id": "0203ab17-037b-493f-a6b5-5845d31a6a58",
   "metadata": {},
   "outputs": [],
   "source": []
  }
 ],
 "metadata": {
  "kernelspec": {
   "display_name": "Python 3 (ipykernel)",
   "language": "python",
   "name": "python3"
  },
  "language_info": {
   "codemirror_mode": {
    "name": "ipython",
    "version": 3
   },
   "file_extension": ".py",
   "mimetype": "text/x-python",
   "name": "python",
   "nbconvert_exporter": "python",
   "pygments_lexer": "ipython3",
   "version": "3.10.8"
  }
 },
 "nbformat": 4,
 "nbformat_minor": 5
}
