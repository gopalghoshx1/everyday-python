{
 "cells": [
  {
   "cell_type": "markdown",
   "id": "23f8e585-cc46-4039-bbe2-48d5211c2f40",
   "metadata": {},
   "source": [
    "# Assingment  2nd feb"
   ]
  },
  {
   "cell_type": "markdown",
   "id": "4656f6e5-4f00-483d-a04f-4831687e5274",
   "metadata": {},
   "source": [
    "# Q2."
   ]
  },
  {
   "cell_type": "code",
   "execution_count": 4,
   "id": "2b0e4af6-1382-49fd-a6c9-7f0137c2a97f",
   "metadata": {},
   "outputs": [
    {
     "name": "stdout",
     "output_type": "stream",
     "text": [
      "55\n"
     ]
    }
   ],
   "source": [
    "s=0\n",
    "for i in range (1,11):\n",
    "    s+=i\n",
    "print(s)"
   ]
  },
  {
   "cell_type": "code",
   "execution_count": 3,
   "id": "e030a368-7751-46a4-bbfe-b50ea611fecd",
   "metadata": {},
   "outputs": [
    {
     "name": "stdout",
     "output_type": "stream",
     "text": [
      "55\n"
     ]
    }
   ],
   "source": [
    "s=0\n",
    "i=1\n",
    "while i<=10:\n",
    "    s=s+i\n",
    "    i=i+1\n",
    "print(s)\n"
   ]
  },
  {
   "cell_type": "markdown",
   "id": "b20c03fc-d66e-427f-8eea-112ef033bed0",
   "metadata": {},
   "source": [
    "# Q3."
   ]
  },
  {
   "cell_type": "code",
   "execution_count": 2,
   "id": "12dd6ec5-5e5a-4ba0-9461-f26df00395c3",
   "metadata": {},
   "outputs": [
    {
     "name": "stdin",
     "output_type": "stream",
     "text": [
      "Enter the unit :: 4220\n"
     ]
    },
    {
     "name": "stdout",
     "output_type": "stream",
     "text": [
      "80450\n"
     ]
    }
   ],
   "source": [
    "unit=int(input(\"Enter the unit ::\"))\n",
    "if unit<=100:\n",
    "    print(unit*4.5)\n",
    "elif unit<=200:\n",
    "    print(450+(unit-100)*6)\n",
    "elif unit<=300:\n",
    "    print(1050+(unit-200)*10)\n",
    "else:\n",
    "    print(2050+(unit-300)*20)\n",
    "    "
   ]
  },
  {
   "cell_type": "markdown",
   "id": "9abf7b0d-f9b2-4ab9-a13c-a89e597f8493",
   "metadata": {},
   "source": [
    "# Q4."
   ]
  },
  {
   "cell_type": "code",
   "execution_count": 6,
   "id": "7b9c7470-5784-4ed1-9710-f4e60e079f53",
   "metadata": {},
   "outputs": [
    {
     "name": "stdout",
     "output_type": "stream",
     "text": [
      "[4, 8, 12, 16, 20, 24, 28, 32, 36, 40, 44, 48, 52, 56, 60, 64, 68, 72, 76, 80, 84, 88, 92, 96, 100]\n",
      "[5, 10, 15, 25, 30, 35, 45, 50, 55, 65, 70, 75, 85, 90, 95]\n"
     ]
    }
   ],
   "source": [
    "\n",
    "\n",
    "num=[]\n",
    "d_four=[]\n",
    "d_five=[]\n",
    "n=[]\n",
    "for i in range(1,101):\n",
    "    num.append(i)\n",
    "\n",
    "for i in num:\n",
    "    if i%4==0:\n",
    "        d_four.append(i)\n",
    "    elif i%5==0:\n",
    "        d_five.append(i)\n",
    "    else:\n",
    "        n.append(i)    \n",
    "print(d_four)\n",
    "print(d_five)\n",
    "    "
   ]
  },
  {
   "cell_type": "markdown",
   "id": "e0cfe3e3-6b5d-4b11-a976-6a04e8f00e03",
   "metadata": {},
   "source": [
    "# Q5."
   ]
  },
  {
   "cell_type": "code",
   "execution_count": 10,
   "id": "8dc50d84-a26e-4e3a-8b7e-c9c7086f3a3a",
   "metadata": {},
   "outputs": [
    {
     "name": "stdin",
     "output_type": "stream",
     "text": [
      "Enter the number I want to become a data scientist\n"
     ]
    },
    {
     "name": "stdout",
     "output_type": "stream",
     "text": [
      "12\n"
     ]
    }
   ],
   "source": [
    "put=input(\"Enter the number\")\n",
    "count=0\n",
    "for i in range(0,len(put)):\n",
    "    if put[i] == 'a' or put[i] == 'e' or put[i] == 'i' or put[i] == 'o' or put[i] == 'u' or put[i] == 'A' or put[i] == 'E' or put[i] == 'I' or put[i] == 'O' or put[i] == 'U':\n",
    "        count=count+1\n",
    "print(count)\n",
    "    "
   ]
  }
 ],
 "metadata": {
  "kernelspec": {
   "display_name": "Python 3 (ipykernel)",
   "language": "python",
   "name": "python3"
  },
  "language_info": {
   "codemirror_mode": {
    "name": "ipython",
    "version": 3
   },
   "file_extension": ".py",
   "mimetype": "text/x-python",
   "name": "python",
   "nbconvert_exporter": "python",
   "pygments_lexer": "ipython3",
   "version": "3.10.8"
  }
 },
 "nbformat": 4,
 "nbformat_minor": 5
}
