{
 "cells": [
  {
   "cell_type": "markdown",
   "id": "08fc40c9-a50a-45ed-83ab-ed8335ad32a5",
   "metadata": {},
   "source": [
    "# Assignment 9th feb"
   ]
  },
  {
   "cell_type": "markdown",
   "id": "be8a652d-83d9-4c33-8236-9c1c1f62c650",
   "metadata": {
    "tags": []
   },
   "source": [
    "## Q1."
   ]
  },
  {
   "cell_type": "markdown",
   "id": "d17ea236-b0b2-4732-a8c5-3fd3dcb893b7",
   "metadata": {},
   "source": [
    " Abstraction is the process of hiding the internal details of an application from the outer world. Abstraction is used to describe things in simple terms. It's used to create a boundary between the application and the client programs."
   ]
  },
  {
   "cell_type": "code",
   "execution_count": 10,
   "id": "905f454b-94e0-41b5-8373-37fbfd05c30c",
   "metadata": {},
   "outputs": [],
   "source": [
    " class vehicle :\n",
    "        \n",
    "        def __init__(self,name_of_vehicle, max_speed, average_of_vehicle):\n",
    "            self.name_of_vehiclel=name_of_vehicle\n",
    "            self.max_speed= max_speed\n",
    "            self.average_of_vehicle=average_of_vehicle\n",
    "        \n",
    "        \n",
    "        def car_details(self):\n",
    "                return self.name_of_vehiclel,self.max_speed,self.average_of_vehicle   "
   ]
  },
  {
   "cell_type": "markdown",
   "id": "579d7dac-64ee-4e20-98d7-bc1ce1bd67df",
   "metadata": {},
   "source": [
    "## Q2."
   ]
  },
  {
   "cell_type": "markdown",
   "id": "81750af6-6e41-4102-897e-a1ca3f54cb78",
   "metadata": {},
   "source": [
    "Abstraction is a design level process and it is used to reduce the complexity at the designing stage of a project. Encapsulation is an implementation level process, and it is used to provide privacy and maintain control over the transparency of data at the implementation stage of a project."
   ]
  },
  {
   "cell_type": "code",
   "execution_count": null,
   "id": "03bfbe43-8c21-4e96-b5c9-cfba167e1f7a",
   "metadata": {},
   "outputs": [],
   "source": []
  },
  {
   "cell_type": "code",
   "execution_count": 11,
   "id": "fdb498b4-e3b2-45ac-a67c-78cd1de6830c",
   "metadata": {},
   "outputs": [],
   "source": [
    " class vehicle :\n",
    "        \n",
    "        def __init__(self,name_of_vehicle, max_speed, average_of_vehicle):\n",
    "            self.name_of_vehiclel=name_of_vehicle\n",
    "            self.max_speed= max_speed\n",
    "            self.average_of_vehicle=average_of_vehicle\n",
    "        \n",
    "        \n",
    "        def car_details(self):\n",
    "                return self.name_of_vehiclel,self.max_speed,self.average_of_vehicle          "
   ]
  },
  {
   "cell_type": "code",
   "execution_count": 12,
   "id": "7180c933-bf32-47a4-b8f1-72cd9119df96",
   "metadata": {},
   "outputs": [],
   "source": [
    "class child_vehicle(vehicle):\n",
    "    def seating_capacity(self,seating_capacity):\n",
    "        self.seating_capacity=seating_capacity\n",
    "        \n",
    "    def full_details(self):\n",
    "        return self.name_of_vehiclel,self.max_speed,self.average_of_vehicle,self.seating_capacity\n",
    "        "
   ]
  },
  {
   "cell_type": "code",
   "execution_count": 13,
   "id": "68c7524e-74f1-4310-a050-325424dff3af",
   "metadata": {},
   "outputs": [],
   "source": [
    "honda= child_vehicle (\"honda\",1000,199)"
   ]
  },
  {
   "cell_type": "code",
   "execution_count": 14,
   "id": "8000f6ec-9da7-403f-acc7-d8a90c9f19d9",
   "metadata": {},
   "outputs": [
    {
     "data": {
      "text/plain": [
       "('honda', 1000, 199)"
      ]
     },
     "execution_count": 14,
     "metadata": {},
     "output_type": "execute_result"
    }
   ],
   "source": [
    "honda.car_details()"
   ]
  },
  {
   "cell_type": "code",
   "execution_count": 15,
   "id": "0e31aa25-000e-47cb-a829-1f0b7b3fcdaf",
   "metadata": {},
   "outputs": [],
   "source": [
    "honda.seating_capacity(4)"
   ]
  },
  {
   "cell_type": "code",
   "execution_count": 16,
   "id": "4b9f8f0d-217d-4dfa-937c-b281cb9cbcd7",
   "metadata": {},
   "outputs": [
    {
     "data": {
      "text/plain": [
       "('honda', 1000, 199, 4)"
      ]
     },
     "execution_count": 16,
     "metadata": {},
     "output_type": "execute_result"
    }
   ],
   "source": [
    "honda.full_details()\n"
   ]
  },
  {
   "cell_type": "markdown",
   "id": "8080fc5c-92d6-4975-aa7a-f73648354f0f",
   "metadata": {},
   "source": [
    "## Q3."
   ]
  },
  {
   "cell_type": "markdown",
   "id": "37cfd277-81c4-41a5-b519-d860748cc347",
   "metadata": {
    "tags": []
   },
   "source": [
    "Multiple inheritance is a feature of some object-oriented computer programming languages in which an object or class can inherit features from more than one parent object or parent class. It is distinct from single inheritance, where an object or class may only inherit from one particular object or class.\n",
    "\n",
    "Multiple inheritance has been a controversial issue for many years,[1][2] with opponents pointing to its increased complexity and ambiguity in situations such as the \"diamond problem\", where it may be ambiguous as to which parent class a particular feature is inherited from if more than one parent class implements said feature. This can be addressed in various ways, including using virtual inheritance.[3] Alternate methods of object composition not based on inheritance such as mixins and traits have also been proposed to address the ambiguity."
   ]
  },
  {
   "cell_type": "code",
   "execution_count": 14,
   "id": "2d29a0b2-674e-4ec0-add7-cf9c300557cf",
   "metadata": {},
   "outputs": [],
   "source": [
    "class class1:\n",
    "    def one(self):\n",
    "        return (\"this is the class one\")\n",
    "    "
   ]
  },
  {
   "cell_type": "code",
   "execution_count": 15,
   "id": "6cdced8d-4f62-4b21-992e-e85c0e5ac533",
   "metadata": {},
   "outputs": [],
   "source": [
    "class class2(class1):\n",
    "    pass\n",
    "    "
   ]
  },
  {
   "cell_type": "code",
   "execution_count": 16,
   "id": "5fdf3423-89ba-420f-ac2d-7216914a08c5",
   "metadata": {},
   "outputs": [],
   "source": [
    "class class3(class2):\n",
    "    pass"
   ]
  },
  {
   "cell_type": "code",
   "execution_count": 17,
   "id": "4cf17189-34e2-4f84-a2ad-9e5a965a269e",
   "metadata": {},
   "outputs": [],
   "source": [
    "Gopal=class3()"
   ]
  },
  {
   "cell_type": "code",
   "execution_count": 18,
   "id": "cf6972d9-a1c2-48d3-8cae-a8c9a2d60033",
   "metadata": {},
   "outputs": [
    {
     "data": {
      "text/plain": [
       "'this is the class one'"
      ]
     },
     "execution_count": 18,
     "metadata": {},
     "output_type": "execute_result"
    }
   ],
   "source": [
    "Gopal.one()"
   ]
  },
  {
   "cell_type": "markdown",
   "id": "ddf0cbfa-b4f4-4ed3-8f4e-10bd6c1f7230",
   "metadata": {},
   "source": [
    "## Q4."
   ]
  },
  {
   "cell_type": "markdown",
   "id": "a63cd6f2-a558-4052-b87c-b2f46e11b548",
   "metadata": {},
   "source": [
    "Getters: These are the methods used in Object-Oriented Programming (OOPS) which helps to access the private attributes from a class. Setters: These are the methods used in OOPS feature which helps to set the value to private attributes in a class."
   ]
  },
  {
   "cell_type": "code",
   "execution_count": 2,
   "id": "7033560e-4d74-4dfa-af91-18a0eed03f8e",
   "metadata": {},
   "outputs": [],
   "source": [
    "class population:\n",
    "    def __init__(self,pp):\n",
    "        self.pp=pp\n",
    "    \n",
    "    def seter(self,p):\n",
    "        self.pp=p\n",
    "    def getter(self):\n",
    "        return self.pp"
   ]
  },
  {
   "cell_type": "code",
   "execution_count": 3,
   "id": "c4935719-14be-418f-b3b7-e274032e2ffc",
   "metadata": {},
   "outputs": [],
   "source": [
    "kolkata=population(545454)"
   ]
  },
  {
   "cell_type": "code",
   "execution_count": 9,
   "id": "09d302f1-3e9e-4662-a4e9-9eba13243a7b",
   "metadata": {},
   "outputs": [
    {
     "data": {
      "text/plain": [
       "54659595959"
      ]
     },
     "execution_count": 9,
     "metadata": {},
     "output_type": "execute_result"
    }
   ],
   "source": [
    "kolkata.getter()"
   ]
  },
  {
   "cell_type": "code",
   "execution_count": 8,
   "id": "75249a9a-a828-4da8-b0c0-91f17bccdd24",
   "metadata": {},
   "outputs": [],
   "source": [
    "\n",
    "kolkata.seter(54659595959)"
   ]
  },
  {
   "cell_type": "markdown",
   "id": "a1e7ba49-c952-4e5d-be33-0501b71d4755",
   "metadata": {},
   "source": [
    "## Q5."
   ]
  },
  {
   "cell_type": "markdown",
   "id": "08dcac4e-f045-4392-bea8-147a70a2ee47",
   "metadata": {},
   "source": [
    "Method overriding is an ability of any object-oriented programming language that allows a subclass or child class to provide a specific implementation of a method that is already provided by one of its super-classes or parent classes. When a method in a subclass has the same name, same parameters or signature and same return type(or sub-type) as a method in its super-class, then the method in the subclass is said to override the method in the super-class."
   ]
  },
  {
   "cell_type": "code",
   "execution_count": 42,
   "id": "0af4e6d9-9a0e-44f8-a2dd-11f9c3e644ab",
   "metadata": {},
   "outputs": [],
   "source": [
    " class vehicle :\n",
    "        \n",
    "        def __init__(self,name_of_vehicle, max_speed, average_of_vehicle):\n",
    "            self.name_of_vehicle=name_of_vehicle\n",
    "            self.max_speed= max_speed\n",
    "            self.average_of_vehicle=average_of_vehicle\n",
    "            \n",
    "        @classmethod\n",
    "        def c_details(cls , name_of_vehicle, max_speed, average_of_vehicle):\n",
    "              return cls(name_of_vehicle , max_speed , average_of_vehicle )         \n",
    "        \n",
    "    \n",
    "        \n",
    "        def car_details(self):\n",
    "                return self.name_of_vehicle,self.max_speed,self.average_of_vehicle          "
   ]
  },
  {
   "cell_type": "code",
   "execution_count": 47,
   "id": "11099dd7-d583-4100-882b-91f2e732d713",
   "metadata": {},
   "outputs": [],
   "source": [
    "honda=vehicle.c_details(\"honda\",499,75)"
   ]
  },
  {
   "cell_type": "code",
   "execution_count": 49,
   "id": "6ca39276-a969-462f-b48f-4158f0dccc01",
   "metadata": {},
   "outputs": [
    {
     "data": {
      "text/plain": [
       "('honda', 499, 75)"
      ]
     },
     "execution_count": 49,
     "metadata": {},
     "output_type": "execute_result"
    }
   ],
   "source": [
    "honda.car_details()"
   ]
  }
 ],
 "metadata": {
  "kernelspec": {
   "display_name": "Python 3 (ipykernel)",
   "language": "python",
   "name": "python3"
  },
  "language_info": {
   "codemirror_mode": {
    "name": "ipython",
    "version": 3
   },
   "file_extension": ".py",
   "mimetype": "text/x-python",
   "name": "python",
   "nbconvert_exporter": "python",
   "pygments_lexer": "ipython3",
   "version": "3.10.8"
  }
 },
 "nbformat": 4,
 "nbformat_minor": 5
}
