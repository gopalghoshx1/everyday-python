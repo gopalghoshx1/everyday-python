{
 "cells": [
  {
   "cell_type": "markdown",
   "id": "4eaf50db-1e25-4056-aefc-f132d064a5f8",
   "metadata": {
    "tags": []
   },
   "source": [
    "# Assignment 5feb"
   ]
  },
  {
   "cell_type": "markdown",
   "id": "52131a8b-d701-4722-8867-52fb8ddcfb9c",
   "metadata": {},
   "source": [
    "# Q1."
   ]
  },
  {
   "cell_type": "code",
   "execution_count": 4,
   "id": "b52d5813-a4dc-48dc-91ba-b882c9416e11",
   "metadata": {},
   "outputs": [],
   "source": [
    "class test:\n",
    "    def __init__(self, email_id ,name ,number):\n",
    "        self.email_id=email_id\n",
    "        self.name=name \n",
    "        self.number=number\n",
    "    def det(self):\n",
    "        return self.email_id,self.name,self.number"
   ]
  },
  {
   "cell_type": "code",
   "execution_count": 5,
   "id": "d62d93b8-1e02-43f4-a535-d82e95942c1e",
   "metadata": {},
   "outputs": [],
   "source": [
    "surjo=test(\"uhcu\",\"uhcjjx\",48548484)"
   ]
  },
  {
   "cell_type": "code",
   "execution_count": 6,
   "id": "9908571b-714a-45e7-a915-7fc1ed832895",
   "metadata": {},
   "outputs": [
    {
     "data": {
      "text/plain": [
       "('uhcu', 'uhcjjx', 48548484)"
      ]
     },
     "execution_count": 6,
     "metadata": {},
     "output_type": "execute_result"
    }
   ],
   "source": [
    "surjo.det()\n"
   ]
  },
  {
   "cell_type": "markdown",
   "id": "808b5bcd-43db-4fdb-a9e8-b14723ea7a16",
   "metadata": {},
   "source": [
    "# Q2."
   ]
  },
  {
   "cell_type": "markdown",
   "id": "0244c2c8-e7e6-4ac3-ac35-5554d8d26214",
   "metadata": {},
   "source": [
    "# These four pillars are Inheritance, Polymorphism, Encapsulation and Abstraction."
   ]
  },
  {
   "cell_type": "markdown",
   "id": "7c3b2899-3914-4ad9-8061-d1ab8d93b723",
   "metadata": {},
   "source": [
    "# Q3."
   ]
  },
  {
   "cell_type": "markdown",
   "id": "e03f96cf-6496-4fdd-a2b4-d7bd551e9b40",
   "metadata": {},
   "source": [
    "# we use __init__() to give input structure"
   ]
  },
  {
   "cell_type": "markdown",
   "id": "8db9f2cf-9731-4872-970d-b26d6b41b9c9",
   "metadata": {},
   "source": [
    "# Q4."
   ]
  },
  {
   "cell_type": "markdown",
   "id": "71b4334e-2183-4048-80ad-7e4ffab74e5e",
   "metadata": {},
   "source": [
    "# self use to connect pogrom"
   ]
  },
  {
   "cell_type": "markdown",
   "id": "c61c384c-25b7-467d-859a-1341a26f1cd2",
   "metadata": {},
   "source": [
    "# Q5."
   ]
  },
  {
   "cell_type": "markdown",
   "id": "7b93b3aa-93b0-4c87-943c-6ddff7ef01da",
   "metadata": {},
   "source": [
    "# When a class derives from another class."
   ]
  },
  {
   "cell_type": "markdown",
   "id": "c2f66d43-df69-4319-b6e1-01cf99c9caff",
   "metadata": {},
   "source": [
    "# multiple inheritance"
   ]
  },
  {
   "cell_type": "code",
   "execution_count": 22,
   "id": "0d3a4562-a8e0-4d01-96ad-d68d5d05710d",
   "metadata": {},
   "outputs": [],
   "source": [
    "class task1():\n",
    "    def __init__(self,name,age,date):\n",
    "        self.name=name\n",
    "        self.age=age\n",
    "        self.date=date\n",
    "    def details(self):\n",
    "        return(self.name,self.age,self.date)\n",
    "    "
   ]
  },
  {
   "cell_type": "code",
   "execution_count": 23,
   "id": "93d5e973-e0bc-4124-b66f-6d714bfbbb4e",
   "metadata": {},
   "outputs": [],
   "source": [
    "class task2(task1):\n",
    "    pass"
   ]
  },
  {
   "cell_type": "code",
   "execution_count": 24,
   "id": "3fa3c903-1314-48ec-962c-f2478d0f1fde",
   "metadata": {},
   "outputs": [],
   "source": [
    "jj=task1(\"sdas\",5485,1)"
   ]
  },
  {
   "cell_type": "code",
   "execution_count": 26,
   "id": "a9a81801-93a7-4022-81f2-0f66f59e4957",
   "metadata": {},
   "outputs": [
    {
     "data": {
      "text/plain": [
       "('sdas', 5485, 1)"
      ]
     },
     "execution_count": 26,
     "metadata": {},
     "output_type": "execute_result"
    }
   ],
   "source": [
    "jj.details()"
   ]
  },
  {
   "cell_type": "code",
   "execution_count": null,
   "id": "b9e2e0f9-29b5-4892-904c-388420cba145",
   "metadata": {},
   "outputs": [],
   "source": [
    "jg"
   ]
  },
  {
   "cell_type": "markdown",
   "id": "963b4be5-0075-4203-a7b6-58481c1f28f9",
   "metadata": {},
   "source": [
    "# multi level inheritance"
   ]
  },
  {
   "cell_type": "code",
   "execution_count": 1,
   "id": "f8ab3056-d86b-4d74-8480-9d1e132a2551",
   "metadata": {},
   "outputs": [],
   "source": [
    "class calss1:\n",
    "    def __init__(self, name,number,add):\n",
    "        self.name=name\n",
    "        self.number=number\n",
    "        self.add= add\n",
    "    def details(self):\n",
    "        return (self.name ,self.number,self.add)"
   ]
  },
  {
   "cell_type": "code",
   "execution_count": 2,
   "id": "7dcf7b2f-9929-4bde-9253-a37a1b55ab85",
   "metadata": {},
   "outputs": [],
   "source": [
    "class class2(calss1):\n",
    "    pass\n",
    "    "
   ]
  },
  {
   "cell_type": "code",
   "execution_count": 3,
   "id": "a630bf13-8bd0-4ed3-9f08-aa1033bd3d4b",
   "metadata": {},
   "outputs": [],
   "source": [
    "call=class2(\"fsgs\",678,88)"
   ]
  },
  {
   "cell_type": "code",
   "execution_count": 4,
   "id": "e98edc4d-2ba3-4951-b91b-7129796cac9c",
   "metadata": {},
   "outputs": [
    {
     "data": {
      "text/plain": [
       "('fsgs', 678, 88)"
      ]
     },
     "execution_count": 4,
     "metadata": {},
     "output_type": "execute_result"
    }
   ],
   "source": [
    "call.details()"
   ]
  },
  {
   "cell_type": "code",
   "execution_count": null,
   "id": "db47d8d0-58a3-4871-bfde-58f5fe47411c",
   "metadata": {},
   "outputs": [],
   "source": []
  },
  {
   "cell_type": "code",
   "execution_count": null,
   "id": "df51850b-8ba9-4ae5-80d3-4e57f948a54a",
   "metadata": {},
   "outputs": [],
   "source": []
  },
  {
   "cell_type": "code",
   "execution_count": null,
   "id": "8680d012-3a7d-4c3b-be70-3567b5528d38",
   "metadata": {},
   "outputs": [],
   "source": []
  },
  {
   "cell_type": "code",
   "execution_count": null,
   "id": "ddede06b-0b03-40b7-8fb6-a6211fe720be",
   "metadata": {},
   "outputs": [],
   "source": []
  }
 ],
 "metadata": {
  "kernelspec": {
   "display_name": "Python 3 (ipykernel)",
   "language": "python",
   "name": "python3"
  },
  "language_info": {
   "codemirror_mode": {
    "name": "ipython",
    "version": 3
   },
   "file_extension": ".py",
   "mimetype": "text/x-python",
   "name": "python",
   "nbconvert_exporter": "python",
   "pygments_lexer": "ipython3",
   "version": "3.10.8"
  }
 },
 "nbformat": 4,
 "nbformat_minor": 5
}
